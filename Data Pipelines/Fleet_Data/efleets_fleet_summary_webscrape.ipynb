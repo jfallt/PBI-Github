{
 "cells": [
  {
   "cell_type": "markdown",
   "metadata": {},
   "source": [
    "# Enteprise Data Pipline"
   ]
  },
  {
   "cell_type": "markdown",
   "metadata": {},
   "source": [
    "## 1. Import required libraries"
   ]
  },
  {
   "cell_type": "code",
   "execution_count": 5,
   "metadata": {},
   "outputs": [],
   "source": [
    "import urllib\n",
    "from selenium import webdriver\n",
    "import time\n",
    "from selenium.webdriver.firefox.firefox_profile import FirefoxProfile\n",
    "import os\n",
    "import pandas as pd\n",
    "from datetime import datetime\n",
    "import sqlalchemy as sa \n",
    "from sqlalchemy.orm import sessionmaker"
   ]
  },
  {
   "cell_type": "markdown",
   "metadata": {},
   "source": [
    "## 2. Set up firefox profile preferences"
   ]
  },
  {
   "cell_type": "code",
   "execution_count": 6,
   "metadata": {},
   "outputs": [],
   "source": [
    "# set firefox profile to automatically download .csv files\n",
    "profile = FirefoxProfile()\n",
    "profile.set_preference(\"browser.helperApps.neverAsk.saveToDisk\", 'application/x-www-form-urlencoded')\n",
    "profile.set_preference(\"browser.helperApps.neverAsk.saveToDisk\", 'text/comma-separated-values')\n",
    "profile.set_preference(\"browser.helperApps.neverAsk.saveToDisk\", 'text/csv,application/vnd.ms-excel\"')"
   ]
  },
  {
   "cell_type": "markdown",
   "metadata": {},
   "source": [
    "## 3. Navigate to fleet dashboard and download fleet summary"
   ]
  },
  {
   "cell_type": "code",
   "execution_count": 8,
   "metadata": {
    "jupyter": {
     "source_hidden": true
    }
   },
   "outputs": [],
   "source": [
    "# run firefox webdriver from executable path of your choice and with profile settings\n",
    "driver = webdriver.Firefox(firefox_profile=profile, executable_path = 'C:/Users/jfallt/gecko_driver/geckodriver.exe')\n",
    "\n",
    "# Add the username and password.\n",
    "user = 'jfallt@quenchonline.com'\n",
    "pw = 'nzsAk#XW8wMjGuT'\n",
    "\n",
    "# specify the url\n",
    "urlpage = 'https://login.efleets.com/fleetweb/dashboard/' \n",
    "\n",
    "# get web page\n",
    "driver.get(urlpage)\n",
    " \n",
    "# find username and password elements\n",
    "username = driver.find_element_by_id(\"userId\")\n",
    "password = driver.find_element_by_id(\"password\")\n",
    "\n",
    "# fill username and password fields\n",
    "username.send_keys(user)\n",
    "password.send_keys(pw)\n",
    "\n",
    "# sign into website\n",
    "driver.find_element_by_id(\"signInButton\").click()\n",
    "\n",
    "# find download button, click for dropdown\n",
    "driver.find_element_by_id(\"download-button\").click()\n",
    "\n",
    "# sleep for 5s\n",
    "time.sleep(10)\n",
    "\n",
    "# click csv option for download\n",
    "driver.find_element_by_xpath('//*[@id=\"ui-id-6\"]').click()\n",
    "\n",
    "# sleep for 5s\n",
    "time.sleep(10)\n",
    "\n",
    "# end session\n",
    "driver.quit()"
   ]
  },
  {
   "cell_type": "markdown",
   "metadata": {},
   "source": [
    "## 4. Read csv as a dataframe"
   ]
  },
  {
   "cell_type": "code",
   "execution_count": 109,
   "metadata": {
    "jupyter": {
     "source_hidden": true
    }
   },
   "outputs": [],
   "source": [
    "# find file name (each current fleet file ends with a different number)\n",
    "path = 'C:/Users/jfallt/downloads/'\n",
    "files = []\n",
    "for i in os.listdir(path):\n",
    "    if os.path.isfile(os.path.join(path,i)) and 'FleetSummary' in i:\n",
    "        files.append(i)\n",
    "\n",
    "# pull first element from list for the file name\n",
    "filename = files[0]\n",
    "\n",
    "# specify fields from csv we are interested in\n",
    "fields = ['Vehicle', 'Cust Name', 'Driver**', 'VIN', 'Year', 'Make', 'Model', 'Series', 'License Num', 'License State', 'License Exp. Date'\n",
    "          , 'Delivery Date', 'Fleet Vehicle Status', 'Lease Type', 'Lease Term', 'Months In Service*', 'Lease End Date', 'Contract Mileage'\n",
    "          , 'Delivered Price', 'Dep Pct', 'Dep Amt/Mo', 'Total Lease Charge/Mo', 'Use Tax Amt/Mo', 'Full Maint Rate/Mo'\n",
    "          , 'Total Rent/Mo', 'L&T*', 'Service Charge', 'Current RBV*', 'Calculated Mileage', 'Calculated Mileage Date'\n",
    "          , 'Garage Street Address 1', 'Garage City', 'Garage State ', 'Garage Postal Code']\n",
    "\n",
    "# read csv\n",
    "fleet_sum = pd.read_csv(f'{path}{filename}', usecols=fields)"
   ]
  },
  {
   "cell_type": "markdown",
   "metadata": {},
   "source": [
    "## 5. Modify Dataframe Column Names and dtypes"
   ]
  },
  {
   "cell_type": "code",
   "execution_count": 110,
   "metadata": {
    "jupyter": {
     "source_hidden": true
    }
   },
   "outputs": [],
   "source": [
    "# rename columns to match database\n",
    "fleet_sum.columns = ['vehicle','cust_name','driver','vin','year','make','model','series','license_number','license_state','license_exp_date'\n",
    "                     ,'delivery_date','fleet_vehicle_status','lease_type','lease_term','months_in_service', 'lease_end_date','contract_mileage'\n",
    "                     ,'delivered_price','dep_pct','dep_amt_per_month','total_lease_charge_per_month','use_tax_amt_per_month','full_main_rate_month'\n",
    "                     ,'total_rent_month','L_and_T','service_charge','current_rbv','calculated_mileage','calculated_mileage_date'\n",
    "                     ,'garage_street_address_1', 'garage_city','garage_state','garage_zip']\n",
    "\n",
    "# get today's date for as of date column\n",
    "today = datetime.date(datetime.now())\n",
    "\n",
    "# add as of date = day of datapull\n",
    "fleet_sum.insert(loc= 0, column='asofdate', value=today)\n",
    "\n",
    "# create list of date columns for conversion\n",
    "date_cols = ['license_exp_date','delivery_date','lease_end_date', 'calculated_mileage_date']\n",
    "\n",
    "# change as of date dtype to datetime\n",
    "fleet_sum['asofdate'] = pd.to_datetime(fleet_sum['asofdate'], errors='coerce', format='%Y-%m-%d')\n",
    "\n",
    "# change other date columns to date\n",
    "fleet_sum[date_cols] = fleet_sum[date_cols].apply(lambda x: pd.to_datetime(x, errors='coerce', format='%m/%d/%Y'))\n",
    "\n",
    "# find all vehicles without id (normally denoted with -)\n",
    "#fleet_sum['checkUnknownVehicle'] = fleet_sum['vehicle'].apply(lambda x: True if x == '-' else False)"
   ]
  },
  {
   "cell_type": "markdown",
   "metadata": {},
   "source": [
    "## 6. Connect to DB"
   ]
  },
  {
   "cell_type": "code",
   "execution_count": 107,
   "metadata": {
    "jupyter": {
     "source_hidden": true
    }
   },
   "outputs": [],
   "source": [
    "# create engine for db connection\n",
    "disk_engine = sa.create_engine('sqlite:///C:/Users/jfallt/OneDrive - Quench USA, Inc/sqlite/fleet_data.db')\n",
    "\n",
    "# get metadata\n",
    "#meta = sa.MetaData()\n",
    "\n",
    "# map table in database to a SQLAlchemy object\n",
    "#fleet_summary = sa.Table('fleet_summary', meta, autoload=True, autoload_with=disk_engine)\n",
    "\n",
    "# create sql alchemy sessions\n",
    "#Session = sessionmaker(bind = disk_engine)\n",
    "#session = Session()"
   ]
  },
  {
   "cell_type": "markdown",
   "metadata": {},
   "source": [
    "## 7. Update Database with New Data"
   ]
  },
  {
   "cell_type": "code",
   "execution_count": 112,
   "metadata": {
    "jupyter": {
     "source_hidden": true
    }
   },
   "outputs": [],
   "source": [
    "fleet_sum.to_sql('fleet_summary', disk_engine, if_exists='append')"
   ]
  },
  {
   "cell_type": "markdown",
   "metadata": {},
   "source": [
    "## 8. Remove .csv and dataframe"
   ]
  },
  {
   "cell_type": "code",
   "execution_count": null,
   "metadata": {},
   "outputs": [],
   "source": [
    "# remove csv file\n",
    "os.remove(f'{path}{filename}')\n",
    "\n",
    "# remove dataframe\n",
    "del fleet_sum"
   ]
  },
  {
   "cell_type": "markdown",
   "metadata": {},
   "source": [
    "## 9. Delete records from DB that are not the month's end"
   ]
  },
  {
   "cell_type": "code",
   "execution_count": 82,
   "metadata": {},
   "outputs": [
    {
     "name": "stdout",
     "output_type": "stream",
     "text": [
      "[]\n"
     ]
    }
   ],
   "source": [
    "#max_asofdate_query = session.query(sa.func.max(fleet_summary.c.asofdate)).all()\n",
    "#max_asofdate = max_asofdate_query[0][0].strftime(\"%Y-%m-%d\")\n",
    "#sample = session.query(fleet_summary).filter(fleet_summary.c.asofdate == max_asofdate).all()\n",
    "#print(sample)"
   ]
  },
  {
   "cell_type": "markdown",
   "metadata": {},
   "source": [
    "## Save to python file"
   ]
  },
  {
   "cell_type": "code",
   "execution_count": 2,
   "metadata": {},
   "outputs": [
    {
     "name": "stderr",
     "output_type": "stream",
     "text": [
      "[NbConvertApp] Converting notebook efleets_fleet_summary_webscrape.ipynb to script\n",
      "[NbConvertApp] Writing 5628 bytes to efleets_fleet_summary_webscrape.py\n"
     ]
    }
   ],
   "source": [
    "!jupyter nbconvert --to script efleets_fleet_summary_webscrape.ipynb"
   ]
  },
  {
   "cell_type": "code",
   "execution_count": null,
   "metadata": {},
   "outputs": [],
   "source": []
  }
 ],
 "metadata": {
  "kernelspec": {
   "display_name": "Python 3",
   "language": "python",
   "name": "python3"
  },
  "language_info": {
   "codemirror_mode": {
    "name": "ipython",
    "version": 3
   },
   "file_extension": ".py",
   "mimetype": "text/x-python",
   "name": "python",
   "nbconvert_exporter": "python",
   "pygments_lexer": "ipython3",
   "version": "3.7.5"
  }
 },
 "nbformat": 4,
 "nbformat_minor": 4
}
